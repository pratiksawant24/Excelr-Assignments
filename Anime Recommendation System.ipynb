{
 "cells": [
  {
   "cell_type": "code",
   "execution_count": 2,
   "metadata": {},
   "outputs": [],
   "source": [
    "import pandas as pd"
   ]
  },
  {
   "cell_type": "code",
   "execution_count": 4,
   "metadata": {},
   "outputs": [],
   "source": [
    "anime = pd.read_csv(\"C:/PRATIK/Data Science/Assignment/In progress/Recommendation System/anime.csv\")"
   ]
  },
  {
   "cell_type": "code",
   "execution_count": 5,
   "metadata": {},
   "outputs": [
    {
     "data": {
      "text/plain": [
       "(12294, 7)"
      ]
     },
     "execution_count": 5,
     "metadata": {},
     "output_type": "execute_result"
    }
   ],
   "source": [
    "anime.shape"
   ]
  },
  {
   "cell_type": "code",
   "execution_count": 6,
   "metadata": {},
   "outputs": [
    {
     "data": {
      "text/plain": [
       "Index(['anime_id', 'name', 'genre', 'type', 'episodes', 'rating', 'members'], dtype='object')"
      ]
     },
     "execution_count": 6,
     "metadata": {},
     "output_type": "execute_result"
    }
   ],
   "source": [
    "anime.columns"
   ]
  },
  {
   "cell_type": "code",
   "execution_count": 7,
   "metadata": {},
   "outputs": [
    {
     "data": {
      "text/plain": [
       "0                     Drama, Romance, School, Supernatural\n",
       "1        Action, Adventure, Drama, Fantasy, Magic, Mili...\n",
       "2        Action, Comedy, Historical, Parody, Samurai, S...\n",
       "3                                         Sci-Fi, Thriller\n",
       "4        Action, Comedy, Historical, Parody, Samurai, S...\n",
       "                               ...                        \n",
       "12289                                               Hentai\n",
       "12290                                               Hentai\n",
       "12291                                               Hentai\n",
       "12292                                               Hentai\n",
       "12293                                               Hentai\n",
       "Name: genre, Length: 12294, dtype: object"
      ]
     },
     "execution_count": 7,
     "metadata": {},
     "output_type": "execute_result"
    }
   ],
   "source": [
    "anime.genre"
   ]
  },
  {
   "cell_type": "code",
   "execution_count": 8,
   "metadata": {},
   "outputs": [],
   "source": [
    "from sklearn.feature_extraction.text import TfidfVectorizer"
   ]
  },
  {
   "cell_type": "code",
   "execution_count": 9,
   "metadata": {},
   "outputs": [],
   "source": [
    "# Creating a Tfidf Vectorizer to remove all stop words\n",
    "\n",
    "tfidf = TfidfVectorizer(stop_words=\"english\")    #taking stop words from tfid vectorizer "
   ]
  },
  {
   "cell_type": "code",
   "execution_count": 10,
   "metadata": {},
   "outputs": [
    {
     "data": {
      "text/plain": [
       "62"
      ]
     },
     "execution_count": 10,
     "metadata": {},
     "output_type": "execute_result"
    }
   ],
   "source": [
    "# replacing the NaN values in overview column with empty string\n",
    "\n",
    "anime[\"genre\"].isnull().sum() "
   ]
  },
  {
   "cell_type": "code",
   "execution_count": 11,
   "metadata": {},
   "outputs": [],
   "source": [
    "anime[\"genre\"] = anime[\"genre\"].fillna(\" \")"
   ]
  },
  {
   "cell_type": "code",
   "execution_count": 12,
   "metadata": {},
   "outputs": [
    {
     "data": {
      "text/plain": [
       "(12294, 46)"
      ]
     },
     "execution_count": 12,
     "metadata": {},
     "output_type": "execute_result"
    }
   ],
   "source": [
    "# Preparing the Tfidf matrix by fitting and transforming\n",
    "\n",
    "tfidf_matrix = tfidf.fit_transform(anime.genre)   #Transform a count matrix to a normalized tf or tf-idf representation\n",
    "tfidf_matrix.shape "
   ]
  },
  {
   "cell_type": "code",
   "execution_count": 13,
   "metadata": {},
   "outputs": [],
   "source": [
    "# with the above matrix we need to find the similarity score\n",
    "# There are several metrics for this such as the euclidean, the Pearson and the cosine similarity scores"
   ]
  },
  {
   "cell_type": "code",
   "execution_count": 14,
   "metadata": {},
   "outputs": [],
   "source": [
    "# For now we will be using cosine similarity matrix\n",
    "# A numeric quantity to represent the similarity between 2 movies \n",
    "# Cosine similarity - metric is independent of magnitude and easy to calculate "
   ]
  },
  {
   "cell_type": "code",
   "execution_count": 15,
   "metadata": {},
   "outputs": [],
   "source": [
    "# cosine(x,y)= (x.y⊺)/(||x||.||y||)"
   ]
  },
  {
   "cell_type": "code",
   "execution_count": 16,
   "metadata": {},
   "outputs": [],
   "source": [
    "from sklearn.metrics.pairwise import linear_kernel"
   ]
  },
  {
   "cell_type": "code",
   "execution_count": 17,
   "metadata": {},
   "outputs": [],
   "source": [
    "# Computing the cosine similarity on Tfidf matrix\n",
    "\n",
    "cosine_sim_matrix = linear_kernel(tfidf_matrix,tfidf_matrix)"
   ]
  },
  {
   "cell_type": "code",
   "execution_count": 18,
   "metadata": {},
   "outputs": [],
   "source": [
    "# creating a mapping of anime name to index number \n",
    "\n",
    "anime_index = pd.Series(anime.index,index=anime['name']).drop_duplicates()"
   ]
  },
  {
   "cell_type": "code",
   "execution_count": 32,
   "metadata": {},
   "outputs": [
    {
     "data": {
      "text/plain": [
       "6"
      ]
     },
     "execution_count": 32,
     "metadata": {},
     "output_type": "execute_result"
    }
   ],
   "source": [
    "anime_index[\"Hunter x Hunter (2011)\"]"
   ]
  },
  {
   "cell_type": "code",
   "execution_count": 33,
   "metadata": {},
   "outputs": [],
   "source": [
    "def get_anime_recommendations(Name,topN):    #topN = 10\n",
    "    anime_id = anime_index[Name]\n",
    "    cosine_scores = list(enumerate(cosine_sim_matrix[anime_id]))\n",
    "    \n",
    "    cosine_scores = sorted(cosine_scores,key=lambda x:x[1],reverse = True)\n",
    "    \n",
    "    cosine_scores_10 = cosine_scores[0:topN+1]\n",
    "    \n",
    "    # Getting the anime index \n",
    "    anime_idx  =  [i[0] for i in cosine_scores_10]\n",
    "    anime_scores =  [i[1] for i in cosine_scores_10]\n",
    "    \n",
    "    # Similar movies and scores\n",
    "    anime_similar_show = pd.DataFrame(columns=[\"name\",\"Score\"])\n",
    "    anime_similar_show[\"name\"] = anime.loc[anime_idx,\"name\"]\n",
    "    anime_similar_show[\"Score\"] = anime_scores\n",
    "    anime_similar_show.reset_index(inplace=True)  \n",
    "    anime_similar_show.drop([\"index\"],axis=1,inplace=True)\n",
    "    print (anime_similar_show)\n",
    "    #return (anime_similar_show)\n"
   ]
  },
  {
   "cell_type": "code",
   "execution_count": 34,
   "metadata": {},
   "outputs": [
    {
     "name": "stdout",
     "output_type": "stream",
     "text": [
      "                                                 name     Score\n",
      "0                                Ginga Eiyuu Densetsu  1.000000\n",
      "1          Ginga Eiyuu Densetsu Gaiden: Rasen Meikyuu  1.000000\n",
      "2                                  Starship Operators  1.000000\n",
      "3                         Uchuu Senkan Yamato (Movie)  1.000000\n",
      "4                                     Ginga Patrol PJ  1.000000\n",
      "5                            Uchuu Senkan Yamato 2199  0.954633\n",
      "6   Ginga Eiyuu Densetsu: Arata Naru Tatakai no Ov...  0.954633\n",
      "7                                     Terra e... (TV)  0.954633\n",
      "8      Uchuu Senkan Yamato 2199: Hoshimeguru Hakobune  0.954633\n",
      "9             Ouritsu Uchuugun: Honneamise no Tsubasa  0.954633\n",
      "10     Saraba Uchuu Senkan Yamato: Ai no Senshi-tachi  0.954633\n"
     ]
    }
   ],
   "source": [
    "# Enter your anime and number of anime's to be recommended \n",
    "\n",
    "get_anime_recommendations(\"Ginga Eiyuu Densetsu\",topN=10)"
   ]
  },
  {
   "cell_type": "code",
   "execution_count": null,
   "metadata": {},
   "outputs": [],
   "source": []
  }
 ],
 "metadata": {
  "kernelspec": {
   "display_name": "Python 3",
   "language": "python",
   "name": "python3"
  },
  "language_info": {
   "codemirror_mode": {
    "name": "ipython",
    "version": 3
   },
   "file_extension": ".py",
   "mimetype": "text/x-python",
   "name": "python",
   "nbconvert_exporter": "python",
   "pygments_lexer": "ipython3",
   "version": "3.7.4"
  }
 },
 "nbformat": 4,
 "nbformat_minor": 2
}
